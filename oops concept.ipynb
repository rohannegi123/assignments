{
 "cells": [
  {
   "cell_type": "code",
   "execution_count": null,
   "id": "86578515",
   "metadata": {},
   "outputs": [],
   "source": []
  },
  {
   "cell_type": "markdown",
   "id": "4c505b4f",
   "metadata": {},
   "source": [
    "## Write a Python Program(with class concepts) to find the area of the triangle using the below formula.\n",
    "# area = (s*(s-a)*(s-b)*(s-c)) ** 0.5\n",
    "# Function to take the length of the sides of triangle from user should be defined in the parent .class and function to calculate the area should be defined in subclass."
   ]
  },
  {
   "cell_type": "code",
   "execution_count": 75,
   "id": "5c7305db",
   "metadata": {},
   "outputs": [
    {
     "data": {
      "text/plain": [
       "18.973665961010276"
      ]
     },
     "execution_count": 75,
     "metadata": {},
     "output_type": "execute_result"
    }
   ],
   "source": [
    "class triangle:\n",
    "    def __init__(self,a,b,c):\n",
    "        self.a = a\n",
    "        self.b = b\n",
    "        self.c = c\n",
    "        \n",
    "class triangle_sides(triangle):\n",
    "    def __init__(self, a ,b,c):\n",
    "        self.a = a\n",
    "        self.b = b\n",
    "        self.c = c\n",
    "    def area(self):\n",
    "        s=(self.a + self.b + self.c )\n",
    "        return  (s*(s-self.a)*(s-self.b)*(s-self.c)) ** 0.5\n",
    "        \n",
    "area_t = triangle_sides(1,2,3)\n",
    "area_t.area()"
   ]
  },
  {
   "cell_type": "code",
   "execution_count": 72,
   "id": "bbdd4b2d",
   "metadata": {},
   "outputs": [],
   "source": []
  },
  {
   "cell_type": "markdown",
   "id": "35ad5e2b",
   "metadata": {},
   "source": [
    "# 1.2 Write a function filter_long_words() that takes a list of words and an integer n and returns the list of words that are longer than n."
   ]
  },
  {
   "cell_type": "code",
   "execution_count": 77,
   "id": "c85fa871",
   "metadata": {},
   "outputs": [
    {
     "data": {
      "text/plain": [
       "['rohan', 'negi', 'amar']"
      ]
     },
     "execution_count": 77,
     "metadata": {},
     "output_type": "execute_result"
    }
   ],
   "source": [
    "class filterwords:\n",
    "    def __init__(self,words ,n):\n",
    "        self.words = words\n",
    "        self.n = n\n",
    "        \n",
    "    def filter_long_words(self):\n",
    "        a = []\n",
    "        for i in self.words:\n",
    "            if len(i) > self.n  :\n",
    "                a.append(i)    \n",
    "        return a\n",
    "    \n",
    "    \n",
    "a = filterwords(['rohan' , 'negi' , 'to' , 'on' , 'amar'] ,2)\n",
    "a.filter_long_words()\n"
   ]
  },
  {
   "cell_type": "code",
   "execution_count": null,
   "id": "64b0daff",
   "metadata": {},
   "outputs": [],
   "source": []
  },
  {
   "cell_type": "markdown",
   "id": "3f5b26af",
   "metadata": {},
   "source": [
    "# 2.1 Write a Python program using function concept that maps list of words into a list of integers representing the lengths of the corresponding words.\n",
    "# Hint: If a list [ ab,cde,erty] is passed on to the python function output should come as [2,3,4]\n",
    "# Here 2,3 and 4 are the lengths of the words in the list."
   ]
  },
  {
   "cell_type": "code",
   "execution_count": 80,
   "id": "772b78b8",
   "metadata": {},
   "outputs": [
    {
     "data": {
      "text/plain": [
       "[5, 4, 5, 7, 8]"
      ]
     },
     "execution_count": 80,
     "metadata": {},
     "output_type": "execute_result"
    }
   ],
   "source": [
    "class listofwords:\n",
    "    def __init__(self,words):\n",
    "        self.words = words\n",
    "        \n",
    "    def represntlength(self):\n",
    "        a = []\n",
    "        for i in self.words:\n",
    "            a.append(len(i))\n",
    "            \n",
    "        return a\n",
    "\n",
    "\n",
    "a = listofwords(['rohan','negi' , 'rahul' , 'ineuron' , 'sudhansu'])\n",
    "a.represntlength()"
   ]
  },
  {
   "cell_type": "code",
   "execution_count": null,
   "id": "19e3dfdf",
   "metadata": {},
   "outputs": [],
   "source": []
  },
  {
   "cell_type": "markdown",
   "id": "46784bbc",
   "metadata": {},
   "source": [
    "# 2.2 Write a Python function which takes a character (i.e. a string of length 1) and returns True if it is a vowel, False otherwise."
   ]
  },
  {
   "cell_type": "code",
   "execution_count": 313,
   "id": "55695433",
   "metadata": {},
   "outputs": [],
   "source": [
    "class string:\n",
    "    def __init__(self,word):\n",
    "        self.word = word \n",
    "        if len(word) > 1:\n",
    "            print('please enter str of len 1')\n",
    "            \n",
    "            \n",
    "        \n",
    "    def vowel_or_not(self):\n",
    "        if len(self.word) == 1:\n",
    "            vowels =('a' , 'e' , 'i' , 'o' ,'u')\n",
    "            if self.word not in vowels:\n",
    "                     return False\n",
    "            else:\n",
    "                     return True\n",
    "        else :\n",
    "            print('str of higher then len = 1 was given')\n",
    "        \n",
    "            "
   ]
  },
  {
   "cell_type": "code",
   "execution_count": 315,
   "id": "3508be43",
   "metadata": {},
   "outputs": [
    {
     "name": "stdout",
     "output_type": "stream",
     "text": [
      "please enter str of len 1\n",
      "str of higher then len = 1 was given\n"
     ]
    }
   ],
   "source": [
    "a = string('a3')\n",
    "a.vowel_or_not()"
   ]
  },
  {
   "cell_type": "code",
   "execution_count": 317,
   "id": "8e6d7241",
   "metadata": {},
   "outputs": [
    {
     "data": {
      "text/plain": [
       "False"
      ]
     },
     "execution_count": 317,
     "metadata": {},
     "output_type": "execute_result"
    }
   ],
   "source": [
    "b = string('r')\n",
    "b.vowel_or_not()"
   ]
  },
  {
   "cell_type": "code",
   "execution_count": 319,
   "id": "b03deafb",
   "metadata": {},
   "outputs": [
    {
     "data": {
      "text/plain": [
       "True"
      ]
     },
     "execution_count": 319,
     "metadata": {},
     "output_type": "execute_result"
    }
   ],
   "source": [
    "c = string('e')\n",
    "c.vowel_or_not()"
   ]
  },
  {
   "cell_type": "code",
   "execution_count": null,
   "id": "78c8e8eb",
   "metadata": {},
   "outputs": [],
   "source": [
    "\n",
    "\n"
   ]
  },
  {
   "cell_type": "code",
   "execution_count": null,
   "id": "09c74fd8",
   "metadata": {},
   "outputs": [],
   "source": []
  },
  {
   "cell_type": "code",
   "execution_count": null,
   "id": "9ec302c1",
   "metadata": {},
   "outputs": [],
   "source": []
  }
 ],
 "metadata": {
  "kernelspec": {
   "display_name": "Python 3",
   "language": "python",
   "name": "python3"
  },
  "language_info": {
   "codemirror_mode": {
    "name": "ipython",
    "version": 3
   },
   "file_extension": ".py",
   "mimetype": "text/x-python",
   "name": "python",
   "nbconvert_exporter": "python",
   "pygments_lexer": "ipython3",
   "version": "3.8.8"
  }
 },
 "nbformat": 4,
 "nbformat_minor": 5
}
