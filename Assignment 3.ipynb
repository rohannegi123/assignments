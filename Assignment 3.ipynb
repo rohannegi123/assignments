{
 "cells": [
  {
   "cell_type": "markdown",
   "metadata": {},
   "source": [
    "# 1.1 Write a Python Program to implement your own myreduce() function which works exactlylike Python's built-in function reduce()"
   ]
  },
  {
   "cell_type": "code",
   "execution_count": 32,
   "metadata": {},
   "outputs": [],
   "source": [
    "def my_reduce(func1, args , multi = None):\n",
    "    it = iter(args)\n",
    "    if multi is None:\n",
    "        V = next(it)\n",
    "    else :\n",
    "        V = multi\n",
    "    for i in it:\n",
    "        V = func1(V , i)\n",
    "    return V\n",
    "\n",
    "def sum(a,b):\n",
    "    return a+b\n",
    "\n",
    "List = ( 2,3,5,6)"
   ]
  },
  {
   "cell_type": "code",
   "execution_count": 41,
   "metadata": {},
   "outputs": [
    {
     "data": {
      "text/plain": [
       "116"
      ]
     },
     "execution_count": 41,
     "metadata": {},
     "output_type": "execute_result"
    }
   ],
   "source": [
    "my_reduce(sum , List ,100)\n"
   ]
  },
  {
   "cell_type": "code",
   "execution_count": null,
   "metadata": {},
   "outputs": [],
   "source": []
  },
  {
   "cell_type": "code",
   "execution_count": null,
   "metadata": {},
   "outputs": [],
   "source": []
  },
  {
   "cell_type": "code",
   "execution_count": null,
   "metadata": {},
   "outputs": [],
   "source": []
  },
  {
   "cell_type": "code",
   "execution_count": null,
   "metadata": {},
   "outputs": [],
   "source": []
  },
  {
   "cell_type": "markdown",
   "metadata": {},
   "source": [
    "# 1.2 Write a Python program to implement your own myfilter() function which works exactly like Python's built-in function filter()"
   ]
  },
  {
   "cell_type": "code",
   "execution_count": 42,
   "metadata": {},
   "outputs": [
    {
     "name": "stdout",
     "output_type": "stream",
     "text": [
      "[2, 4, 6, 8, 10]\n"
     ]
    }
   ],
   "source": [
    "def My_filter(func1 , args):\n",
    "    s=[]\n",
    "    for i in args:\n",
    "        if func1(i) == True:\n",
    "            s.append(i)\n",
    "    return s\n",
    "\n",
    "\n",
    "def is_even(item):\n",
    "    if item%2==0 :\n",
    "        return True\n",
    "    else :\n",
    "        return False  \n",
    "    \n",
    "    \n",
    "    \n",
    "    \n",
    "seq=[1,2,3,4,5,6,7,8,9,10]\n",
    "print(My_filter(is_even,seq))"
   ]
  },
  {
   "cell_type": "code",
   "execution_count": null,
   "metadata": {},
   "outputs": [],
   "source": []
  },
  {
   "cell_type": "markdown",
   "metadata": {},
   "source": [
    "# 2. Implement List comprehensions to produce the following lists. Write List comprehensions to produce the following Lists"
   ]
  },
  {
   "cell_type": "code",
   "execution_count": 149,
   "metadata": {},
   "outputs": [
    {
     "name": "stdout",
     "output_type": "stream",
     "text": [
      "['x', 'xx', 'xxx', 'xxxx', 'y', 'yy', 'yyy', 'yyyy', 'z', 'zz', 'zzz', 'zzzz']\n",
      "['x', 'y', 'z', 'xx', 'yy', 'zz', 'xxx', 'yyy', 'zzz', 'xxxx', 'yyyy', 'zzzz']\n",
      "[[2], [3], [4], [3], [4], [5], [4], [5], [6], [2, 3, 4, 5], [3, 4, 5, 6], [4, 5, 6, 7], [5, 6, 7, 8]]\n",
      "[(1, 1), (1, 2), (1, 3), (2, 1), (2, 2), (2, 3), (3, 1), (3, 2), (3, 3)]\n"
     ]
    }
   ],
   "source": [
    "List = [ 'x', 'y','z' ]\n",
    "result = [i * a for i in List for   a in range(1,5)]\n",
    "print(list(result))\n",
    "\n",
    "List_2 = [ 1,2,3,4 ]\n",
    "result = [i * a for i in List_2 for a in ('x' , 'y' ,'z' ) ]\n",
    "print(list(result))\n",
    "\n",
    "\n",
    "\n",
    "List_3 = [1,2,3]\n",
    "result = [[i + a ] for i in List_3 for  a in [1,2,3]]\n",
    "List_4 = [2,3,4,5]\n",
    "result1 = [[i + a for i in List_4] for  a in range(0,4)]\n",
    "print(list(result + result1))\n",
    "\n",
    "\n",
    "\n",
    "List_4 = (1,2,3)\n",
    "result = [(a , b) for a in List_4 for b in List_4]\n",
    "print(list(result))\n",
    "\n",
    "\n",
    "\n"
   ]
  },
  {
   "cell_type": "code",
   "execution_count": null,
   "metadata": {},
   "outputs": [],
   "source": [
    "\n"
   ]
  }
 ],
 "metadata": {
  "kernelspec": {
   "display_name": "Python 3",
   "language": "python",
   "name": "python3"
  },
  "language_info": {
   "codemirror_mode": {
    "name": "ipython",
    "version": 3
   },
   "file_extension": ".py",
   "mimetype": "text/x-python",
   "name": "python",
   "nbconvert_exporter": "python",
   "pygments_lexer": "ipython3",
   "version": "3.8.5"
  }
 },
 "nbformat": 4,
 "nbformat_minor": 4
}
